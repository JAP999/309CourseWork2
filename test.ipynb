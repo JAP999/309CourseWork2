{
  "nbformat": 4,
  "nbformat_minor": 0,
  "metadata": {
    "colab": {
      "provenance": [],
      "toc_visible": true,
      "authorship_tag": "ABX9TyON72qWKyxQZMqSuYuY3i6N",
      "include_colab_link": true
    },
    "kernelspec": {
      "name": "python3",
      "display_name": "Python 3"
    },
    "language_info": {
      "name": "python"
    }
  },
  "cells": [
    {
      "cell_type": "markdown",
      "metadata": {
        "id": "view-in-github",
        "colab_type": "text"
      },
      "source": [
        "<a href=\"https://colab.research.google.com/github/jiayuankeliang/309CourseWork2/blob/main/test.ipynb\" target=\"_parent\"><img src=\"https://colab.research.google.com/assets/colab-badge.svg\" alt=\"Open In Colab\"/></a>"
      ]
    },
    {
      "cell_type": "code",
      "execution_count": 70,
      "metadata": {
        "id": "JgXk2l0Nq9j8"
      },
      "outputs": [],
      "source": [
        "import numpy as np\n",
        "import os\n",
        "import PIL\n",
        "import PIL.Image\n",
        "import tensorflow as tf\n",
        "import tensorflow_datasets as tfds\n",
        "import pandas as pd"
      ]
    },
    {
      "cell_type": "code",
      "source": [
        "import pathlib\n",
        "dataset_url = \"file:///content/drive/MyDrive/archive.tgz\"\n",
        "archive = tf.keras.utils.get_file(origin=dataset_url,\n",
        "                                   fname='archive',\n",
        "                                   untar=True)\n",
        "archive = pathlib.Path(archive)"
      ],
      "metadata": {
        "id": "zExRRn06IFCU"
      },
      "execution_count": 71,
      "outputs": []
    },
    {
      "cell_type": "code",
      "source": [
        "list(archive.glob('*'))"
      ],
      "metadata": {
        "id": "iyjMwpH2Icyw",
        "outputId": "2751444c-4508-4c4c-ff0b-bdffa36b334f",
        "colab": {
          "base_uri": "https://localhost:8080/"
        }
      },
      "execution_count": 73,
      "outputs": [
        {
          "output_type": "execute_result",
          "data": {
            "text/plain": [
              "[PosixPath('/root/.keras/datasets/archive/Meta.csv'),\n",
              " PosixPath('/root/.keras/datasets/archive/._Meta.csv'),\n",
              " PosixPath('/root/.keras/datasets/archive/Meta'),\n",
              " PosixPath('/root/.keras/datasets/archive/Test'),\n",
              " PosixPath('/root/.keras/datasets/archive/._.DS_Store'),\n",
              " PosixPath('/root/.keras/datasets/archive/._Meta'),\n",
              " PosixPath('/root/.keras/datasets/archive/Test.csv'),\n",
              " PosixPath('/root/.keras/datasets/archive/._Test'),\n",
              " PosixPath('/root/.keras/datasets/archive/._Train.csv'),\n",
              " PosixPath('/root/.keras/datasets/archive/Train'),\n",
              " PosixPath('/root/.keras/datasets/archive/.DS_Store'),\n",
              " PosixPath('/root/.keras/datasets/archive/._Test.csv'),\n",
              " PosixPath('/root/.keras/datasets/archive/._Train'),\n",
              " PosixPath('/root/.keras/datasets/archive/Train.csv')]"
            ]
          },
          "metadata": {},
          "execution_count": 73
        }
      ]
    },
    {
      "cell_type": "code",
      "source": [
        "root_path = '/root/.keras/datasets/archive'\n",
        "train_set = pd.read_csv(os.path.join(root_path, 'Train.csv'))\n",
        "train_set = train_set[['ClassId', 'Path']]\n",
        "train_set['Path'] = [os.path.join(root_path, str(x)) for x in train_set['Path']]\n",
        "train_set"
      ],
      "metadata": {
        "id": "23mhpu5kImMV",
        "outputId": "c4948606-7fdc-4068-d615-5012792f6abb",
        "colab": {
          "base_uri": "https://localhost:8080/",
          "height": 424
        }
      },
      "execution_count": 82,
      "outputs": [
        {
          "output_type": "execute_result",
          "data": {
            "text/plain": [
              "       ClassId                                               Path\n",
              "0           20  /root/.keras/datasets/archive/Train/20/00020_0...\n",
              "1           20  /root/.keras/datasets/archive/Train/20/00020_0...\n",
              "2           20  /root/.keras/datasets/archive/Train/20/00020_0...\n",
              "3           20  /root/.keras/datasets/archive/Train/20/00020_0...\n",
              "4           20  /root/.keras/datasets/archive/Train/20/00020_0...\n",
              "...        ...                                                ...\n",
              "39204       42  /root/.keras/datasets/archive/Train/42/00042_0...\n",
              "39205       42  /root/.keras/datasets/archive/Train/42/00042_0...\n",
              "39206       42  /root/.keras/datasets/archive/Train/42/00042_0...\n",
              "39207       42  /root/.keras/datasets/archive/Train/42/00042_0...\n",
              "39208       42  /root/.keras/datasets/archive/Train/42/00042_0...\n",
              "\n",
              "[39209 rows x 2 columns]"
            ],
            "text/html": [
              "\n",
              "  <div id=\"df-0ce37e34-c8c2-4780-af3e-2c09c0151e3a\">\n",
              "    <div class=\"colab-df-container\">\n",
              "      <div>\n",
              "<style scoped>\n",
              "    .dataframe tbody tr th:only-of-type {\n",
              "        vertical-align: middle;\n",
              "    }\n",
              "\n",
              "    .dataframe tbody tr th {\n",
              "        vertical-align: top;\n",
              "    }\n",
              "\n",
              "    .dataframe thead th {\n",
              "        text-align: right;\n",
              "    }\n",
              "</style>\n",
              "<table border=\"1\" class=\"dataframe\">\n",
              "  <thead>\n",
              "    <tr style=\"text-align: right;\">\n",
              "      <th></th>\n",
              "      <th>ClassId</th>\n",
              "      <th>Path</th>\n",
              "    </tr>\n",
              "  </thead>\n",
              "  <tbody>\n",
              "    <tr>\n",
              "      <th>0</th>\n",
              "      <td>20</td>\n",
              "      <td>/root/.keras/datasets/archive/Train/20/00020_0...</td>\n",
              "    </tr>\n",
              "    <tr>\n",
              "      <th>1</th>\n",
              "      <td>20</td>\n",
              "      <td>/root/.keras/datasets/archive/Train/20/00020_0...</td>\n",
              "    </tr>\n",
              "    <tr>\n",
              "      <th>2</th>\n",
              "      <td>20</td>\n",
              "      <td>/root/.keras/datasets/archive/Train/20/00020_0...</td>\n",
              "    </tr>\n",
              "    <tr>\n",
              "      <th>3</th>\n",
              "      <td>20</td>\n",
              "      <td>/root/.keras/datasets/archive/Train/20/00020_0...</td>\n",
              "    </tr>\n",
              "    <tr>\n",
              "      <th>4</th>\n",
              "      <td>20</td>\n",
              "      <td>/root/.keras/datasets/archive/Train/20/00020_0...</td>\n",
              "    </tr>\n",
              "    <tr>\n",
              "      <th>...</th>\n",
              "      <td>...</td>\n",
              "      <td>...</td>\n",
              "    </tr>\n",
              "    <tr>\n",
              "      <th>39204</th>\n",
              "      <td>42</td>\n",
              "      <td>/root/.keras/datasets/archive/Train/42/00042_0...</td>\n",
              "    </tr>\n",
              "    <tr>\n",
              "      <th>39205</th>\n",
              "      <td>42</td>\n",
              "      <td>/root/.keras/datasets/archive/Train/42/00042_0...</td>\n",
              "    </tr>\n",
              "    <tr>\n",
              "      <th>39206</th>\n",
              "      <td>42</td>\n",
              "      <td>/root/.keras/datasets/archive/Train/42/00042_0...</td>\n",
              "    </tr>\n",
              "    <tr>\n",
              "      <th>39207</th>\n",
              "      <td>42</td>\n",
              "      <td>/root/.keras/datasets/archive/Train/42/00042_0...</td>\n",
              "    </tr>\n",
              "    <tr>\n",
              "      <th>39208</th>\n",
              "      <td>42</td>\n",
              "      <td>/root/.keras/datasets/archive/Train/42/00042_0...</td>\n",
              "    </tr>\n",
              "  </tbody>\n",
              "</table>\n",
              "<p>39209 rows × 2 columns</p>\n",
              "</div>\n",
              "      <button class=\"colab-df-convert\" onclick=\"convertToInteractive('df-0ce37e34-c8c2-4780-af3e-2c09c0151e3a')\"\n",
              "              title=\"Convert this dataframe to an interactive table.\"\n",
              "              style=\"display:none;\">\n",
              "        \n",
              "  <svg xmlns=\"http://www.w3.org/2000/svg\" height=\"24px\"viewBox=\"0 0 24 24\"\n",
              "       width=\"24px\">\n",
              "    <path d=\"M0 0h24v24H0V0z\" fill=\"none\"/>\n",
              "    <path d=\"M18.56 5.44l.94 2.06.94-2.06 2.06-.94-2.06-.94-.94-2.06-.94 2.06-2.06.94zm-11 1L8.5 8.5l.94-2.06 2.06-.94-2.06-.94L8.5 2.5l-.94 2.06-2.06.94zm10 10l.94 2.06.94-2.06 2.06-.94-2.06-.94-.94-2.06-.94 2.06-2.06.94z\"/><path d=\"M17.41 7.96l-1.37-1.37c-.4-.4-.92-.59-1.43-.59-.52 0-1.04.2-1.43.59L10.3 9.45l-7.72 7.72c-.78.78-.78 2.05 0 2.83L4 21.41c.39.39.9.59 1.41.59.51 0 1.02-.2 1.41-.59l7.78-7.78 2.81-2.81c.8-.78.8-2.07 0-2.86zM5.41 20L4 18.59l7.72-7.72 1.47 1.35L5.41 20z\"/>\n",
              "  </svg>\n",
              "      </button>\n",
              "      \n",
              "  <style>\n",
              "    .colab-df-container {\n",
              "      display:flex;\n",
              "      flex-wrap:wrap;\n",
              "      gap: 12px;\n",
              "    }\n",
              "\n",
              "    .colab-df-convert {\n",
              "      background-color: #E8F0FE;\n",
              "      border: none;\n",
              "      border-radius: 50%;\n",
              "      cursor: pointer;\n",
              "      display: none;\n",
              "      fill: #1967D2;\n",
              "      height: 32px;\n",
              "      padding: 0 0 0 0;\n",
              "      width: 32px;\n",
              "    }\n",
              "\n",
              "    .colab-df-convert:hover {\n",
              "      background-color: #E2EBFA;\n",
              "      box-shadow: 0px 1px 2px rgba(60, 64, 67, 0.3), 0px 1px 3px 1px rgba(60, 64, 67, 0.15);\n",
              "      fill: #174EA6;\n",
              "    }\n",
              "\n",
              "    [theme=dark] .colab-df-convert {\n",
              "      background-color: #3B4455;\n",
              "      fill: #D2E3FC;\n",
              "    }\n",
              "\n",
              "    [theme=dark] .colab-df-convert:hover {\n",
              "      background-color: #434B5C;\n",
              "      box-shadow: 0px 1px 3px 1px rgba(0, 0, 0, 0.15);\n",
              "      filter: drop-shadow(0px 1px 2px rgba(0, 0, 0, 0.3));\n",
              "      fill: #FFFFFF;\n",
              "    }\n",
              "  </style>\n",
              "\n",
              "      <script>\n",
              "        const buttonEl =\n",
              "          document.querySelector('#df-0ce37e34-c8c2-4780-af3e-2c09c0151e3a button.colab-df-convert');\n",
              "        buttonEl.style.display =\n",
              "          google.colab.kernel.accessAllowed ? 'block' : 'none';\n",
              "\n",
              "        async function convertToInteractive(key) {\n",
              "          const element = document.querySelector('#df-0ce37e34-c8c2-4780-af3e-2c09c0151e3a');\n",
              "          const dataTable =\n",
              "            await google.colab.kernel.invokeFunction('convertToInteractive',\n",
              "                                                     [key], {});\n",
              "          if (!dataTable) return;\n",
              "\n",
              "          const docLinkHtml = 'Like what you see? Visit the ' +\n",
              "            '<a target=\"_blank\" href=https://colab.research.google.com/notebooks/data_table.ipynb>data table notebook</a>'\n",
              "            + ' to learn more about interactive tables.';\n",
              "          element.innerHTML = '';\n",
              "          dataTable['output_type'] = 'display_data';\n",
              "          await google.colab.output.renderOutput(dataTable, element);\n",
              "          const docLink = document.createElement('div');\n",
              "          docLink.innerHTML = docLinkHtml;\n",
              "          element.appendChild(docLink);\n",
              "        }\n",
              "      </script>\n",
              "    </div>\n",
              "  </div>\n",
              "  "
            ]
          },
          "metadata": {},
          "execution_count": 82
        }
      ]
    },
    {
      "cell_type": "code",
      "source": [
        "img = PIL.Image.open(str(train_set['Path'][1]))\n",
        "label = train_set['ClassId'][1]\n",
        "print('label %s' % label)\n",
        "img.resize((227, 227))"
      ],
      "metadata": {
        "id": "slKAKFx7JKw0",
        "outputId": "6bf270ac-53b8-477b-f956-1d6c97bd9c36",
        "colab": {
          "base_uri": "https://localhost:8080/",
          "height": 262
        }
      },
      "execution_count": 88,
      "outputs": [
        {
          "output_type": "stream",
          "name": "stdout",
          "text": [
            "label 20\n"
          ]
        },
        {
          "output_type": "execute_result",
          "data": {
            "text/plain": [
              "<PIL.Image.Image image mode=RGB size=227x227 at 0x7F07FEF28F40>"
            ],
            "image/png": "[encoded data removed]"
          },
          "metadata": {},
          "execution_count": 88
        }
      ]
    }
  ]
}