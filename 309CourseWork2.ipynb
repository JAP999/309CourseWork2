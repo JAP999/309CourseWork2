{
  "nbformat": 4,
  "nbformat_minor": 0,
  "metadata": {
    "colab": {
      "provenance": [],
      "mount_file_id": "https://github.com/jiayuankeliang/309CourseWork2/blob/main/309CourseWork2.ipynb",
      "authorship_tag": "ABX9TyNIgBkWRgQpY0QN1KG2aoXB",
      "include_colab_link": true
    },
    "kernelspec": {
      "name": "python3",
      "display_name": "Python 3"
    },
    "language_info": {
      "name": "python"
    }
  },
  "cells": [
    {
      "cell_type": "markdown",
      "metadata": {
        "id": "view-in-github",
        "colab_type": "text"
      },
      "source": [
        "<a href=\"https://colab.research.google.com/github/jiayuankeliang/309CourseWork2/blob/main/309CourseWork2.ipynb\" target=\"_parent\"><img src=\"https://colab.research.google.com/assets/colab-badge.svg\" alt=\"Open In Colab\"/></a>"
      ]
    },
    {
      "cell_type": "code",
      "execution_count": 47,
      "metadata": {
        "id": "THzz1jKXG6ca",
        "colab": {
          "base_uri": "https://localhost:8080/"
        },
        "outputId": "b665cbf9-df75-462d-a53b-a27f98031dee"
      },
      "outputs": [
        {
          "output_type": "execute_result",
          "data": {
            "text/plain": [
              "(210, 32, 32, 3)"
            ]
          },
          "metadata": {},
          "execution_count": 47
        }
      ],
      "source": [
        "import os\n",
        "import numpy as np\n",
        "from PIL import Image \n",
        "\n",
        "\n",
        "path = './data/train'\n",
        "img_list= []\n",
        "label_list = []\n",
        "for label in os.listdir(path):\n",
        "  for file_name in os.listdir(os.path.join(path, label)):\n",
        "    img = Image.open(os.path.join(path, label, file_name))\n",
        "    img = img.resize(size=(32,32))\n",
        "    img_list.append(np.array(img))\n",
        "\n",
        "X_train = np.array(img_list)\n",
        "X_train.shape"
      ]
    }
  ]
}