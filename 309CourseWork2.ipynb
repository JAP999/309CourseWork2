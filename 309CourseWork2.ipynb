{
  "nbformat": 4,
  "nbformat_minor": 0,
  "metadata": {
    "colab": {
      "provenance": [],
      "mount_file_id": "https://github.com/jiayuankeliang/309CourseWork2/blob/main/309CourseWork2.ipynb",
      "authorship_tag": "ABX9TyOvycq9blX/3yacnpr4pLYH",
      "include_colab_link": true
    },
    "kernelspec": {
      "name": "python3",
      "display_name": "Python 3"
    },
    "language_info": {
      "name": "python"
    }
  },
  "cells": [
    {
      "cell_type": "markdown",
      "metadata": {
        "id": "view-in-github",
        "colab_type": "text"
      },
      "source": [
        "<a href=\"https://colab.research.google.com/github/jiayuankeliang/309CourseWork2/blob/main/309CourseWork2.ipynb\" target=\"_parent\"><img src=\"https://colab.research.google.com/assets/colab-badge.svg\" alt=\"Open In Colab\"/></a>"
      ]
    },
    {
      "cell_type": "code",
      "execution_count": 14,
      "metadata": {
        "id": "THzz1jKXG6ca",
        "colab": {
          "base_uri": "https://localhost:8080/"
        },
        "outputId": "7eecb72e-5490-4369-8a0b-958a089156d5"
      },
      "outputs": [
        {
          "output_type": "stream",
          "name": "stdout",
          "text": [
            "/content/drive/MyDrive/309CourseWork2/data/train\n"
          ]
        }
      ],
      "source": [
        "import os\n",
        "import cv2\n",
        "\n",
        "path = '/content/drive/MyDrive/309CourseWork2/data/train'\n",
        "for label in os.listdir(path):\n",
        "  print(path)\n",
        "\n",
        "\n",
        "\n"
      ]
    },
    {
      "cell_type": "code",
      "source": [],
      "metadata": {
        "id": "PzNcR1NOBrbT"
      },
      "execution_count": null,
      "outputs": []
    }
  ]
}