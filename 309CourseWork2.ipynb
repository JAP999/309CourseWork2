{
  "nbformat": 4,
  "nbformat_minor": 0,
  "metadata": {
    "colab": {
      "provenance": [],
      "mount_file_id": "https://github.com/jiayuankeliang/309CourseWork2/blob/main/309CourseWork2.ipynb",
      "authorship_tag": "ABX9TyO+5VnnSC77oMI8lDthh5MF",
      "include_colab_link": true
    },
    "kernelspec": {
      "name": "python3",
      "display_name": "Python 3"
    },
    "language_info": {
      "name": "python"
    }
  },
  "cells": [
    {
      "cell_type": "markdown",
      "metadata": {
        "id": "view-in-github",
        "colab_type": "text"
      },
      "source": [
        "<a href=\"https://colab.research.google.com/github/jiayuankeliang/309CourseWork2/blob/main/309CourseWork2.ipynb\" target=\"_parent\"><img src=\"https://colab.research.google.com/assets/colab-badge.svg\" alt=\"Open In Colab\"/></a>"
      ]
    },
    {
      "cell_type": "markdown",
      "source": [
        "import moudle"
      ],
      "metadata": {
        "id": "daURLkLtDXXd"
      }
    },
    {
      "cell_type": "code",
      "execution_count": 132,
      "metadata": {
        "id": "THzz1jKXG6ca"
      },
      "outputs": [],
      "source": [
        "import os\n",
        "import numpy as np\n",
        "from PIL import Image \n",
        "import matplotlib.pyplot as plt\n",
        "import tensorflow as tf\n",
        "from tensorflow import keras"
      ]
    },
    {
      "cell_type": "markdown",
      "source": [
        "load data"
      ],
      "metadata": {
        "id": "Ae_MkddfDfm6"
      }
    },
    {
      "cell_type": "code",
      "source": [
        "path = './data/train'\n",
        "img_list= []\n",
        "label_list = []\n",
        "for label in os.listdir(path):\n",
        "  for file_name in os.listdir(os.path.join(path, label)):\n",
        "    img = Image.open(os.path.join(path, label, file_name))\n",
        "    img = img.resize(size=(32,32))\n",
        "    img_list.append(np.array(img))\n",
        "    label_list.append(label)"
      ],
      "metadata": {
        "id": "YrfQfAvjDf5G"
      },
      "execution_count": 133,
      "outputs": []
    },
    {
      "cell_type": "markdown",
      "source": [
        "all classes"
      ],
      "metadata": {
        "id": "5q-Wx_7HyS4F"
      }
    },
    {
      "cell_type": "code",
      "source": [
        "class_name = ['speed_limit_20', 'speed_limit_30', 'speed_limit_50', 'speed_limit_60', 'speed_limit_70', 'speed_limit_80', 'lift__speed_limit_80', 'speed_limit_100']"
      ],
      "metadata": {
        "id": "Z_kkw7GMEuip"
      },
      "execution_count": 134,
      "outputs": []
    },
    {
      "cell_type": "markdown",
      "source": [
        "check shape"
      ],
      "metadata": {
        "id": "KCGl8HeGDnj-"
      }
    },
    {
      "cell_type": "code",
      "source": [
        "X_train = np.array(img_list, dtype=int)\n",
        "Y_train = np.array(label_list, ndmin=1, dtype=int)\n",
        "X_train.shape, Y_train.shape"
      ],
      "metadata": {
        "colab": {
          "base_uri": "https://localhost:8080/"
        },
        "id": "FDnEa-GyDVrf",
        "outputId": "9cb1199e-df13-4071-d909-aea0aad0ed8e"
      },
      "execution_count": 135,
      "outputs": [
        {
          "output_type": "execute_result",
          "data": {
            "text/plain": [
              "((10499, 32, 32, 3), (10499,))"
            ]
          },
          "metadata": {},
          "execution_count": 135
        }
      ]
    },
    {
      "cell_type": "markdown",
      "source": [
        "feature scale"
      ],
      "metadata": {
        "id": "fcMV4K-dwo5B"
      }
    },
    {
      "cell_type": "code",
      "source": [
        "X_train = X_train/255"
      ],
      "metadata": {
        "id": "nHKfqsicwoVX"
      },
      "execution_count": 136,
      "outputs": []
    },
    {
      "cell_type": "markdown",
      "source": [
        "show image"
      ],
      "metadata": {
        "id": "OeeZfkNqDrZZ"
      }
    },
    {
      "cell_type": "code",
      "source": [
        "index = 8001\n",
        "print(class_name[Y_train[index]])\n",
        "plt.imshow(X_train[index])"
      ],
      "metadata": {
        "colab": {
          "base_uri": "https://localhost:8080/",
          "height": 302
        },
        "id": "_Wyux2yYDtAC",
        "outputId": "d99af483-dc03-415f-809f-d567579f237d"
      },
      "execution_count": 137,
      "outputs": [
        {
          "output_type": "stream",
          "name": "stdout",
          "text": [
            "speed_limit_70\n"
          ]
        },
        {
          "output_type": "execute_result",
          "data": {
            "text/plain": [
              "<matplotlib.image.AxesImage at 0x7f0692086070>"
            ]
          },
          "metadata": {},
          "execution_count": 137
        },
        {
          "output_type": "display_data",
          "data": {
            "text/plain": [
              "<Figure size 432x288 with 1 Axes>"
            ],
            "image/png": "[encoded data removed]"
          },
          "metadata": {
            "needs_background": "light"
          }
        }
      ]
    },
    {
      "cell_type": "markdown",
      "source": [
        "create a simple model"
      ],
      "metadata": {
        "id": "Zd86yRryxi8m"
      }
    },
    {
      "cell_type": "code",
      "source": [
        "model = keras.models.Sequential()\n",
        "model.add(keras.layers.Flatten(input_shape=[32, 32, 3]))\n",
        "model.add(keras.layers.BatchNormalization())\n",
        "model.add(keras.layers.Dense(300, activation=\"relu\"))\n",
        "model.add(keras.layers.BatchNormalization())\n",
        "model.add(keras.layers.Dense(100, activation=\"relu\"))\n",
        "model.add(keras.layers.BatchNormalization())\n",
        "model.add(keras.layers.Dense(8, activation=\"softmax\"))\n",
        "model.compile(loss = \"sparse_categorical_crossentropy\", optimizer=keras.optimizers.Adam(), metrics = [\"accuracy\"])\n",
        "history = model.fit(X_train, Y_train, epochs = 30, validation_split=0.1)"
      ],
      "metadata": {
        "colab": {
          "base_uri": "https://localhost:8080/"
        },
        "id": "7igCZW6hxll2",
        "outputId": "c159a197-426f-4f64-8e94-04bdba4206a3"
      },
      "execution_count": 138,
      "outputs": [
        {
          "output_type": "stream",
          "name": "stdout",
          "text": [
            "Epoch 1/30\n",
            "296/296 [==============================] - 31s 26ms/step - loss: 1.0569 - accuracy: 0.6309 - val_loss: 2.5611 - val_accuracy: 0.1724\n",
            "Epoch 2/30\n",
            "296/296 [==============================] - 7s 23ms/step - loss: 0.5231 - accuracy: 0.8189 - val_loss: 3.1479 - val_accuracy: 0.3705\n",
            "Epoch 3/30\n",
            "296/296 [==============================] - 7s 23ms/step - loss: 0.4106 - accuracy: 0.8541 - val_loss: 4.0514 - val_accuracy: 0.3695\n",
            "Epoch 4/30\n",
            "296/296 [==============================] - 6s 20ms/step - loss: 0.3271 - accuracy: 0.8836 - val_loss: 4.7288 - val_accuracy: 0.2571\n",
            "Epoch 5/30\n",
            "296/296 [==============================] - 8s 27ms/step - loss: 0.2931 - accuracy: 0.8961 - val_loss: 4.4297 - val_accuracy: 0.3048\n",
            "Epoch 6/30\n",
            "296/296 [==============================] - 6s 20ms/step - loss: 0.2606 - accuracy: 0.9072 - val_loss: 4.8652 - val_accuracy: 0.3514\n",
            "Epoch 7/30\n",
            "296/296 [==============================] - 8s 28ms/step - loss: 0.2477 - accuracy: 0.9145 - val_loss: 5.4306 - val_accuracy: 0.3162\n",
            "Epoch 8/30\n",
            "296/296 [==============================] - 6s 20ms/step - loss: 0.2215 - accuracy: 0.9204 - val_loss: 5.6682 - val_accuracy: 0.3924\n",
            "Epoch 9/30\n",
            "296/296 [==============================] - 8s 26ms/step - loss: 0.2097 - accuracy: 0.9306 - val_loss: 5.6620 - val_accuracy: 0.4067\n",
            "Epoch 10/30\n",
            "296/296 [==============================] - 6s 20ms/step - loss: 0.1778 - accuracy: 0.9401 - val_loss: 6.9879 - val_accuracy: 0.4343\n",
            "Epoch 11/30\n",
            "296/296 [==============================] - 8s 25ms/step - loss: 0.1795 - accuracy: 0.9382 - val_loss: 5.4126 - val_accuracy: 0.2943\n",
            "Epoch 12/30\n",
            "296/296 [==============================] - 6s 22ms/step - loss: 0.1845 - accuracy: 0.9366 - val_loss: 5.5594 - val_accuracy: 0.4219\n",
            "Epoch 13/30\n",
            "296/296 [==============================] - 7s 25ms/step - loss: 0.1593 - accuracy: 0.9440 - val_loss: 5.8408 - val_accuracy: 0.3600\n",
            "Epoch 14/30\n",
            "296/296 [==============================] - 7s 23ms/step - loss: 0.1484 - accuracy: 0.9484 - val_loss: 6.1713 - val_accuracy: 0.3714\n",
            "Epoch 15/30\n",
            "296/296 [==============================] - 7s 25ms/step - loss: 0.1390 - accuracy: 0.9523 - val_loss: 6.6812 - val_accuracy: 0.3448\n",
            "Epoch 16/30\n",
            "296/296 [==============================] - 7s 23ms/step - loss: 0.1394 - accuracy: 0.9517 - val_loss: 6.5058 - val_accuracy: 0.3390\n",
            "Epoch 17/30\n",
            "296/296 [==============================] - 7s 22ms/step - loss: 0.1389 - accuracy: 0.9507 - val_loss: 6.2271 - val_accuracy: 0.3571\n",
            "Epoch 18/30\n",
            "296/296 [==============================] - 7s 24ms/step - loss: 0.1217 - accuracy: 0.9590 - val_loss: 7.0108 - val_accuracy: 0.4390\n",
            "Epoch 19/30\n",
            "296/296 [==============================] - 6s 20ms/step - loss: 0.1169 - accuracy: 0.9601 - val_loss: 7.4387 - val_accuracy: 0.3790\n",
            "Epoch 20/30\n",
            "296/296 [==============================] - 10s 33ms/step - loss: 0.1101 - accuracy: 0.9634 - val_loss: 6.9135 - val_accuracy: 0.4171\n",
            "Epoch 21/30\n",
            "296/296 [==============================] - 7s 23ms/step - loss: 0.1237 - accuracy: 0.9590 - val_loss: 7.3520 - val_accuracy: 0.4438\n",
            "Epoch 22/30\n",
            "296/296 [==============================] - 7s 23ms/step - loss: 0.1153 - accuracy: 0.9605 - val_loss: 7.9083 - val_accuracy: 0.3010\n",
            "Epoch 23/30\n",
            "296/296 [==============================] - 6s 21ms/step - loss: 0.1081 - accuracy: 0.9642 - val_loss: 7.1489 - val_accuracy: 0.3914\n",
            "Epoch 24/30\n",
            "296/296 [==============================] - 8s 27ms/step - loss: 0.1002 - accuracy: 0.9647 - val_loss: 6.7572 - val_accuracy: 0.2857\n",
            "Epoch 25/30\n",
            "296/296 [==============================] - 6s 20ms/step - loss: 0.1134 - accuracy: 0.9595 - val_loss: 8.9681 - val_accuracy: 0.2886\n",
            "Epoch 26/30\n",
            "296/296 [==============================] - 8s 27ms/step - loss: 0.0997 - accuracy: 0.9657 - val_loss: 7.7844 - val_accuracy: 0.4314\n",
            "Epoch 27/30\n",
            "296/296 [==============================] - 6s 21ms/step - loss: 0.0879 - accuracy: 0.9716 - val_loss: 8.5474 - val_accuracy: 0.3924\n",
            "Epoch 28/30\n",
            "296/296 [==============================] - 8s 26ms/step - loss: 0.0867 - accuracy: 0.9704 - val_loss: 8.1468 - val_accuracy: 0.4286\n",
            "Epoch 29/30\n",
            "296/296 [==============================] - 6s 21ms/step - loss: 0.1005 - accuracy: 0.9647 - val_loss: 8.3169 - val_accuracy: 0.3371\n",
            "Epoch 30/30\n",
            "296/296 [==============================] - 8s 26ms/step - loss: 0.0919 - accuracy: 0.9684 - val_loss: 7.8254 - val_accuracy: 0.3476\n"
          ]
        }
      ]
    },
    {
      "cell_type": "markdown",
      "source": [
        "train error and val error"
      ],
      "metadata": {
        "id": "jo14bkmH2Wqe"
      }
    },
    {
      "cell_type": "code",
      "source": [
        "# Plot training & validation accuracy values\n",
        "plt.plot(history.history['accuracy'])\n",
        "plt.plot(history.history['val_accuracy'])\n",
        "plt.title('Model accuracy')\n",
        "plt.ylabel('Accuracy')\n",
        "plt.xlabel('Epoch')\n",
        "plt.legend(['Train', 'Val'], loc='upper left')\n",
        "plt.show()\n",
        "\n",
        "# Plot training & validation loss values\n",
        "plt.plot(history.history['loss'])\n",
        "plt.plot(history.history['val_loss'])\n",
        "plt.title('Model loss')\n",
        "plt.ylabel('Loss')\n",
        "plt.xlabel('Epoch')\n",
        "plt.legend(['Train', 'Val'], loc='upper left')\n",
        "plt.show()"
      ],
      "metadata": {
        "colab": {
          "base_uri": "https://localhost:8080/",
          "height": 573
        },
        "id": "puUKdclu2dcR",
        "outputId": "bf9056b0-8720-4e8e-ed0e-76b85c24342a"
      },
      "execution_count": 139,
      "outputs": [
        {
          "output_type": "display_data",
          "data": {
            "text/plain": [
              "<Figure size 432x288 with 1 Axes>"
            ],
            "image/png": "[encoded data removed]"
          },
          "metadata": {
            "needs_background": "light"
          }
        },
        {
          "output_type": "display_data",
          "data": {
            "text/plain": [
              "<Figure size 432x288 with 1 Axes>"
            ],
            "image/png": "[encoded data removed]"
          },
          "metadata": {
            "needs_background": "light"
          }
        }
      ]
    },
    {
      "cell_type": "markdown",
      "source": [
        "**😅overfitting**"
      ],
      "metadata": {
        "id": "KZotwRZf9ptC"
      }
    }
  ]
}