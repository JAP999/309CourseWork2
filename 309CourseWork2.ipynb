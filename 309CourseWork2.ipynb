{
  "nbformat": 4,
  "nbformat_minor": 0,
  "metadata": {
    "colab": {
      "provenance": [],
      "mount_file_id": "https://github.com/jiayuankeliang/309CourseWork2/blob/main/309CourseWork2.ipynb",
      "authorship_tag": "ABX9TyMRBL6f4aucbUz4fcJ98ZZ1",
      "include_colab_link": true
    },
    "kernelspec": {
      "name": "python3",
      "display_name": "Python 3"
    },
    "language_info": {
      "name": "python"
    }
  },
  "cells": [
    {
      "cell_type": "markdown",
      "metadata": {
        "id": "view-in-github",
        "colab_type": "text"
      },
      "source": [
        "<a href=\"https://colab.research.google.com/github/jiayuankeliang/309CourseWork2/blob/main/309CourseWork2.ipynb\" target=\"_parent\"><img src=\"https://colab.research.google.com/assets/colab-badge.svg\" alt=\"Open In Colab\"/></a>"
      ]
    },
    {
      "cell_type": "markdown",
      "source": [
        "import moudle"
      ],
      "metadata": {
        "id": "daURLkLtDXXd"
      }
    },
    {
      "cell_type": "code",
      "execution_count": 118,
      "metadata": {
        "id": "THzz1jKXG6ca"
      },
      "outputs": [],
      "source": [
        "import os\n",
        "import numpy as np\n",
        "from PIL import Image \n",
        "import matplotlib.pyplot as plt\n",
        "import tensorflow as tf\n",
        "from tensorflow import keras"
      ]
    },
    {
      "cell_type": "markdown",
      "source": [
        "load data"
      ],
      "metadata": {
        "id": "Ae_MkddfDfm6"
      }
    },
    {
      "cell_type": "code",
      "source": [
        "path = './data/train'\n",
        "img_list= []\n",
        "label_list = []\n",
        "for label in os.listdir(path):\n",
        "  for file_name in os.listdir(os.path.join(path, label)):\n",
        "    img = Image.open(os.path.join(path, label, file_name))\n",
        "    img = img.resize(size=(32,32))\n",
        "    img_list.append(np.array(img))\n",
        "    label_list.append(label)"
      ],
      "metadata": {
        "id": "YrfQfAvjDf5G"
      },
      "execution_count": 119,
      "outputs": []
    },
    {
      "cell_type": "markdown",
      "source": [
        "all classes"
      ],
      "metadata": {
        "id": "5q-Wx_7HyS4F"
      }
    },
    {
      "cell_type": "code",
      "source": [
        "class_name = ['speed_limit_20', 'speed_limit_30', 'speed_limit_50', 'speed_limit_60', 'speed_limit_70', 'speed_limit_80']"
      ],
      "metadata": {
        "id": "Z_kkw7GMEuip"
      },
      "execution_count": 120,
      "outputs": []
    },
    {
      "cell_type": "markdown",
      "source": [
        "check shape"
      ],
      "metadata": {
        "id": "KCGl8HeGDnj-"
      }
    },
    {
      "cell_type": "code",
      "source": [
        "X_train = np.array(img_list, dtype=int)\n",
        "Y_train = np.array(label_list, ndmin=1, dtype=int)\n",
        "X_train.shape, Y_train.shape"
      ],
      "metadata": {
        "colab": {
          "base_uri": "https://localhost:8080/"
        },
        "id": "FDnEa-GyDVrf",
        "outputId": "85b98007-a3b9-4d51-be93-4fb84253307d"
      },
      "execution_count": 121,
      "outputs": [
        {
          "output_type": "execute_result",
          "data": {
            "text/plain": [
              "((8289, 32, 32, 3), (8289,))"
            ]
          },
          "metadata": {},
          "execution_count": 121
        }
      ]
    },
    {
      "cell_type": "markdown",
      "source": [
        "feature scale"
      ],
      "metadata": {
        "id": "fcMV4K-dwo5B"
      }
    },
    {
      "cell_type": "code",
      "source": [
        "X_train = X_train/255"
      ],
      "metadata": {
        "id": "nHKfqsicwoVX"
      },
      "execution_count": 122,
      "outputs": []
    },
    {
      "cell_type": "markdown",
      "source": [
        "show image"
      ],
      "metadata": {
        "id": "OeeZfkNqDrZZ"
      }
    },
    {
      "cell_type": "code",
      "source": [
        "plt.imshow(X_train[4687])"
      ],
      "metadata": {
        "colab": {
          "base_uri": "https://localhost:8080/",
          "height": 284
        },
        "id": "_Wyux2yYDtAC",
        "outputId": "9f632ae8-bfed-45ae-9783-14bbce27ae94"
      },
      "execution_count": 123,
      "outputs": [
        {
          "output_type": "execute_result",
          "data": {
            "text/plain": [
              "<matplotlib.image.AxesImage at 0x7f06952eb970>"
            ]
          },
          "metadata": {},
          "execution_count": 123
        },
        {
          "output_type": "display_data",
          "data": {
            "text/plain": [
              "<Figure size 432x288 with 1 Axes>"
            ],
            "image/png": "[encoded data removed]"
          },
          "metadata": {
            "needs_background": "light"
          }
        }
      ]
    },
    {
      "cell_type": "markdown",
      "source": [
        "create a simple model"
      ],
      "metadata": {
        "id": "Zd86yRryxi8m"
      }
    },
    {
      "cell_type": "code",
      "source": [
        "model = keras.models.Sequential()\n",
        "model.add(keras.layers.Flatten(input_shape=[32, 32, 3]))\n",
        "model.add(keras.layers.BatchNormalization())\n",
        "model.add(keras.layers.Dense(300, activation=\"relu\"))\n",
        "model.add(keras.layers.BatchNormalization())\n",
        "model.add(keras.layers.Dense(100, activation=\"relu\"))\n",
        "model.add(keras.layers.BatchNormalization())\n",
        "model.add(keras.layers.Dense(6, activation=\"softmax\"))\n",
        "model.compile(loss = \"sparse_categorical_crossentropy\", optimizer=keras.optimizers.Adam(), metrics = [\"accuracy\"])\n",
        "history = model.fit(X_train, Y_train, epochs = 30, validation_split=0.1)"
      ],
      "metadata": {
        "colab": {
          "base_uri": "https://localhost:8080/"
        },
        "id": "7igCZW6hxll2",
        "outputId": "a4d714fb-1f37-4e37-e535-14559668b17e"
      },
      "execution_count": 125,
      "outputs": [
        {
          "output_type": "stream",
          "name": "stdout",
          "text": [
            "Epoch 1/30\n",
            "234/234 [==============================] - 8s 20ms/step - loss: 0.8640 - accuracy: 0.7027 - val_loss: 1.5296 - val_accuracy: 0.4306\n",
            "Epoch 2/30\n",
            "234/234 [==============================] - 6s 27ms/step - loss: 0.4237 - accuracy: 0.8523 - val_loss: 1.6631 - val_accuracy: 0.5935\n",
            "Epoch 3/30\n",
            "234/234 [==============================] - 5s 20ms/step - loss: 0.3172 - accuracy: 0.8909 - val_loss: 1.7650 - val_accuracy: 0.6647\n",
            "Epoch 4/30\n",
            "234/234 [==============================] - 6s 24ms/step - loss: 0.2452 - accuracy: 0.9149 - val_loss: 2.2915 - val_accuracy: 0.5368\n",
            "Epoch 5/30\n",
            "234/234 [==============================] - 6s 25ms/step - loss: 0.2267 - accuracy: 0.9227 - val_loss: 1.8965 - val_accuracy: 0.5501\n",
            "Epoch 6/30\n",
            "234/234 [==============================] - 5s 19ms/step - loss: 0.2028 - accuracy: 0.9294 - val_loss: 1.8056 - val_accuracy: 0.7153\n",
            "Epoch 7/30\n",
            "234/234 [==============================] - 6s 24ms/step - loss: 0.1903 - accuracy: 0.9314 - val_loss: 2.0014 - val_accuracy: 0.6803\n",
            "Epoch 8/30\n",
            "234/234 [==============================] - 5s 23ms/step - loss: 0.1835 - accuracy: 0.9357 - val_loss: 1.9281 - val_accuracy: 0.6912\n",
            "Epoch 9/30\n",
            "234/234 [==============================] - 5s 21ms/step - loss: 0.1493 - accuracy: 0.9493 - val_loss: 1.9096 - val_accuracy: 0.6695\n",
            "Epoch 10/30\n",
            "234/234 [==============================] - 7s 29ms/step - loss: 0.1619 - accuracy: 0.9446 - val_loss: 1.9688 - val_accuracy: 0.6864\n",
            "Epoch 11/30\n",
            "234/234 [==============================] - 5s 20ms/step - loss: 0.1512 - accuracy: 0.9453 - val_loss: 2.3916 - val_accuracy: 0.6514\n",
            "Epoch 12/30\n",
            "234/234 [==============================] - 4s 19ms/step - loss: 0.1366 - accuracy: 0.9520 - val_loss: 2.5730 - val_accuracy: 0.6164\n",
            "Epoch 13/30\n",
            "234/234 [==============================] - 7s 29ms/step - loss: 0.1268 - accuracy: 0.9540 - val_loss: 2.0616 - val_accuracy: 0.6864\n",
            "Epoch 14/30\n",
            "234/234 [==============================] - 5s 20ms/step - loss: 0.1407 - accuracy: 0.9477 - val_loss: 2.2733 - val_accuracy: 0.6695\n",
            "Epoch 15/30\n",
            "234/234 [==============================] - 6s 24ms/step - loss: 0.1253 - accuracy: 0.9570 - val_loss: 2.1777 - val_accuracy: 0.6996\n",
            "Epoch 16/30\n",
            "234/234 [==============================] - 8s 34ms/step - loss: 0.1062 - accuracy: 0.9633 - val_loss: 2.2923 - val_accuracy: 0.7177\n",
            "Epoch 17/30\n",
            "234/234 [==============================] - 5s 21ms/step - loss: 0.1202 - accuracy: 0.9591 - val_loss: 2.4833 - val_accuracy: 0.6357\n",
            "Epoch 18/30\n",
            "234/234 [==============================] - 5s 23ms/step - loss: 0.1053 - accuracy: 0.9633 - val_loss: 2.1641 - val_accuracy: 0.7117\n",
            "Epoch 19/30\n",
            "234/234 [==============================] - 6s 24ms/step - loss: 0.1159 - accuracy: 0.9601 - val_loss: 2.2931 - val_accuracy: 0.6972\n",
            "Epoch 20/30\n",
            "234/234 [==============================] - 6s 25ms/step - loss: 0.1001 - accuracy: 0.9666 - val_loss: 2.8718 - val_accuracy: 0.5754\n",
            "Epoch 21/30\n",
            "234/234 [==============================] - 6s 27ms/step - loss: 0.1101 - accuracy: 0.9598 - val_loss: 2.5551 - val_accuracy: 0.6550\n",
            "Epoch 22/30\n",
            "234/234 [==============================] - 4s 18ms/step - loss: 0.1016 - accuracy: 0.9649 - val_loss: 3.1429 - val_accuracy: 0.5706\n",
            "Epoch 23/30\n",
            "234/234 [==============================] - 4s 19ms/step - loss: 0.0946 - accuracy: 0.9665 - val_loss: 2.1422 - val_accuracy: 0.6791\n",
            "Epoch 24/30\n",
            "234/234 [==============================] - 7s 28ms/step - loss: 0.0886 - accuracy: 0.9720 - val_loss: 2.9382 - val_accuracy: 0.6984\n",
            "Epoch 25/30\n",
            "234/234 [==============================] - 5s 20ms/step - loss: 0.0953 - accuracy: 0.9704 - val_loss: 2.7428 - val_accuracy: 0.6864\n",
            "Epoch 26/30\n",
            "234/234 [==============================] - 5s 23ms/step - loss: 0.0762 - accuracy: 0.9740 - val_loss: 2.5390 - val_accuracy: 0.6984\n",
            "Epoch 27/30\n",
            "234/234 [==============================] - 6s 25ms/step - loss: 0.1042 - accuracy: 0.9674 - val_loss: 2.7028 - val_accuracy: 0.7093\n",
            "Epoch 28/30\n",
            "234/234 [==============================] - 5s 20ms/step - loss: 0.0991 - accuracy: 0.9657 - val_loss: 2.6600 - val_accuracy: 0.7129\n",
            "Epoch 29/30\n",
            "234/234 [==============================] - 6s 26ms/step - loss: 0.0819 - accuracy: 0.9705 - val_loss: 2.7159 - val_accuracy: 0.6743\n",
            "Epoch 30/30\n",
            "234/234 [==============================] - 5s 21ms/step - loss: 0.0735 - accuracy: 0.9761 - val_loss: 2.7663 - val_accuracy: 0.6357\n"
          ]
        }
      ]
    },
    {
      "cell_type": "markdown",
      "source": [
        "train error and val error"
      ],
      "metadata": {
        "id": "jo14bkmH2Wqe"
      }
    },
    {
      "cell_type": "code",
      "source": [
        "# Plot training & validation accuracy values\n",
        "plt.plot(history.history['accuracy'])\n",
        "plt.plot(history.history['val_accuracy'])\n",
        "plt.title('Model accuracy')\n",
        "plt.ylabel('Accuracy')\n",
        "plt.xlabel('Epoch')\n",
        "plt.legend(['Train', 'Val'], loc='upper left')\n",
        "plt.show()\n",
        "\n",
        "# Plot training & validation loss values\n",
        "plt.plot(history.history['loss'])\n",
        "plt.plot(history.history['val_loss'])\n",
        "plt.title('Model loss')\n",
        "plt.ylabel('Loss')\n",
        "plt.xlabel('Epoch')\n",
        "plt.legend(['Train', 'Val'], loc='upper left')\n",
        "plt.show()"
      ],
      "metadata": {
        "colab": {
          "base_uri": "https://localhost:8080/",
          "height": 573
        },
        "id": "puUKdclu2dcR",
        "outputId": "81ab224f-deea-429b-a7b5-8541c63be54e"
      },
      "execution_count": 126,
      "outputs": [
        {
          "output_type": "display_data",
          "data": {
            "text/plain": [
              "<Figure size 432x288 with 1 Axes>"
            ],
            "image/png": "[encoded data removed]"
          },
          "metadata": {
            "needs_background": "light"
          }
        },
        {
          "output_type": "display_data",
          "data": {
            "text/plain": [
              "<Figure size 432x288 with 1 Axes>"
            ],
            "image/png": "[encoded data removed]"
          },
          "metadata": {
            "needs_background": "light"
          }
        }
      ]
    },
    {
      "cell_type": "markdown",
      "source": [
        "**😅overfitting**"
      ],
      "metadata": {
        "id": "KZotwRZf9ptC"
      }
    }
  ]
}