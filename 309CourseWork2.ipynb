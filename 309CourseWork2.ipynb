{
  "nbformat": 4,
  "nbformat_minor": 0,
  "metadata": {
    "colab": {
      "provenance": [],
      "mount_file_id": "https://github.com/jiayuankeliang/309CourseWork2/blob/main/309CourseWork2.ipynb",
      "authorship_tag": "ABX9TyPBgdb/BhKknS8g6Dv/AUom",
      "include_colab_link": true
    },
    "kernelspec": {
      "name": "python3",
      "display_name": "Python 3"
    },
    "language_info": {
      "name": "python"
    }
  },
  "cells": [
    {
      "cell_type": "markdown",
      "metadata": {
        "id": "view-in-github",
        "colab_type": "text"
      },
      "source": [
        "<a href=\"https://colab.research.google.com/github/jiayuankeliang/309CourseWork2/blob/main/309CourseWork2.ipynb\" target=\"_parent\"><img src=\"https://colab.research.google.com/assets/colab-badge.svg\" alt=\"Open In Colab\"/></a>"
      ]
    },
    {
      "cell_type": "markdown",
      "source": [
        "Firstly, you must ensure your location is in the same level as 'data' floder"
      ],
      "metadata": {
        "id": "pUABkwiCM3dA"
      }
    },
    {
      "cell_type": "code",
      "source": [
        "%cd /content/drive/MyDrive/Github/309CourseWork2"
      ],
      "metadata": {
        "colab": {
          "base_uri": "https://localhost:8080/"
        },
        "id": "Lh1z8IbDMY1d",
        "outputId": "ffbed893-dde1-4b97-f952-d5c963a4a3ce"
      },
      "execution_count": 15,
      "outputs": [
        {
          "output_type": "stream",
          "name": "stdout",
          "text": [
            "/content/drive/MyDrive/Github/309CourseWork2\n"
          ]
        }
      ]
    },
    {
      "cell_type": "markdown",
      "source": [
        "import moudle"
      ],
      "metadata": {
        "id": "daURLkLtDXXd"
      }
    },
    {
      "cell_type": "code",
      "execution_count": 16,
      "metadata": {
        "id": "THzz1jKXG6ca"
      },
      "outputs": [],
      "source": [
        "import os\n",
        "import numpy as np\n",
        "from PIL import Image \n",
        "import matplotlib.pyplot as plt\n",
        "import tensorflow as tf\n",
        "from tensorflow import keras\n",
        "from concurrent.futures import ThreadPoolExecutor,as_completed"
      ]
    },
    {
      "cell_type": "markdown",
      "source": [
        "load meat data"
      ],
      "metadata": {
        "id": "ZSrfzqy6oqxE"
      }
    },
    {
      "cell_type": "code",
      "source": [
        "path = './data/meta'\n",
        "meta = {}\n",
        "for file_name in os.listdir(path):\n",
        "  key = file_name.replace('.png', '')\n",
        "  meta[int(key)] = Image.open(os.path.join(path, file_name))\n",
        "\n",
        "meta[26]"
      ],
      "metadata": {
        "colab": {
          "base_uri": "https://localhost:8080/",
          "height": 105
        },
        "id": "tJ9ntTJUosXf",
        "outputId": "92fade3d-36cb-46a3-d014-93705e65b272"
      },
      "execution_count": 17,
      "outputs": [
        {
          "output_type": "execute_result",
          "data": {
            "text/plain": [
              "<PIL.PngImagePlugin.PngImageFile image mode=RGBA size=100x88 at 0x7F9454344EB0>"
            ],
            "image/png": "[encoded data removed]"
          },
          "metadata": {},
          "execution_count": 17
        }
      ]
    },
    {
      "cell_type": "markdown",
      "source": [
        "multithreading load train data "
      ],
      "metadata": {
        "id": "Ae_MkddfDfm6"
      }
    },
    {
      "cell_type": "code",
      "source": [
        "def load_signle_floder_img(path, label):\n",
        "  img_list= []\n",
        "  label_list = []\n",
        "  for file_name in os.listdir(os.path.join(path, label)):\n",
        "    img = Image.open(os.path.join(path, label, file_name))\n",
        "    img = img.resize(size=(32,32))\n",
        "    img_list.append(np.array(img))\n",
        "    label_list.append(label)\n",
        "  return img_list, label_list\n",
        "\n",
        "path = './data/train'\n",
        "with ThreadPoolExecutor(5) as executor:\n",
        "  future_list = [executor.submit(load_signle_floder_img, path, label) for label in os.listdir(path)]\n",
        "\n",
        "img_list = [] \n",
        "label_list = []\n",
        "for future in as_completed(future_list):\n",
        "  img_sub_list, label_sub_list = future.result()\n",
        "  img_list += img_sub_list\n",
        "  label_list += label_sub_list"
      ],
      "metadata": {
        "id": "YrfQfAvjDf5G"
      },
      "execution_count": 18,
      "outputs": []
    },
    {
      "cell_type": "markdown",
      "source": [
        "check shape"
      ],
      "metadata": {
        "id": "myMD4-72xd8i"
      }
    },
    {
      "cell_type": "code",
      "source": [
        "X_train = np.array(img_list, dtype=int)\n",
        "Y_train = np.array(label_list, ndmin=1, dtype=int)\n",
        "X_train.shape, Y_train.shape"
      ],
      "metadata": {
        "colab": {
          "base_uri": "https://localhost:8080/"
        },
        "id": "FDnEa-GyDVrf",
        "outputId": "6b2140d4-f3be-4ff7-aacb-bff3259e7455"
      },
      "execution_count": 19,
      "outputs": [
        {
          "output_type": "execute_result",
          "data": {
            "text/plain": [
              "((30448, 32, 32, 3), (30448,))"
            ]
          },
          "metadata": {},
          "execution_count": 19
        }
      ]
    },
    {
      "cell_type": "markdown",
      "source": [
        "feature scale"
      ],
      "metadata": {
        "id": "fcMV4K-dwo5B"
      }
    },
    {
      "cell_type": "code",
      "source": [
        "X_train = X_train/255"
      ],
      "metadata": {
        "id": "nHKfqsicwoVX"
      },
      "execution_count": 20,
      "outputs": []
    },
    {
      "cell_type": "markdown",
      "source": [
        "show image"
      ],
      "metadata": {
        "id": "OeeZfkNqDrZZ"
      }
    },
    {
      "cell_type": "code",
      "source": [
        "fig, (ax1, ax2) = plt.subplots(1, 2)\n",
        "index = 30000\n",
        "print('label and sample')\n",
        "ax1.imshow(meta[Y_train[index]])\n",
        "ax2.imshow(X_train[index])"
      ],
      "metadata": {
        "colab": {
          "base_uri": "https://localhost:8080/",
          "height": 239
        },
        "id": "_Wyux2yYDtAC",
        "outputId": "222591f9-e21a-4d53-a36b-dfdce0128fc5"
      },
      "execution_count": 22,
      "outputs": [
        {
          "output_type": "stream",
          "name": "stdout",
          "text": [
            "label and sample\n"
          ]
        },
        {
          "output_type": "execute_result",
          "data": {
            "text/plain": [
              "<matplotlib.image.AxesImage at 0x7f9450640d90>"
            ]
          },
          "metadata": {},
          "execution_count": 22
        },
        {
          "output_type": "display_data",
          "data": {
            "text/plain": [
              "<Figure size 432x288 with 2 Axes>"
            ],
            "image/png": "[encoded data removed]"
          },
          "metadata": {
            "needs_background": "light"
          }
        }
      ]
    },
    {
      "cell_type": "markdown",
      "source": [
        "start with a simple model"
      ],
      "metadata": {
        "id": "Zd86yRryxi8m"
      }
    },
    {
      "cell_type": "code",
      "source": [
        "early_stopping_cb = keras.callbacks.EarlyStopping(patience=10, restore_best_weights=True)\n",
        "model = keras.models.Sequential()\n",
        "model.add(keras.layers.Flatten(input_shape=[32, 32, 3]))\n",
        "model.add(keras.layers.Dense(300, activation=\"relu\"))\n",
        "model.add(keras.layers.Dense(100, activation=\"relu\"))\n",
        "model.add(keras.layers.Dense(26, activation=\"softmax\"))\n",
        "model.compile(loss = \"sparse_categorical_crossentropy\", optimizer=keras.optimizers.SGD(), metrics = [\"accuracy\"])\n",
        "history = model.fit(X_train, Y_train, epochs = 100, validation_split=0.1, callbacks=[early_stopping_cb])"
      ],
      "metadata": {
        "colab": {
          "base_uri": "https://localhost:8080/"
        },
        "id": "7igCZW6hxll2",
        "outputId": "7412e173-f1b6-44bf-b468-9885eb204891"
      },
      "execution_count": 29,
      "outputs": [
        {
          "output_type": "stream",
          "name": "stdout",
          "text": [
            "Epoch 1/100\n",
            "857/857 [==============================] - 10s 11ms/step - loss: 2.3336 - accuracy: 0.3743 - val_loss: 5.5111 - val_accuracy: 0.0000e+00\n",
            "Epoch 2/100\n",
            "857/857 [==============================] - 8s 10ms/step - loss: 1.3936 - accuracy: 0.6220 - val_loss: 5.0447 - val_accuracy: 0.2989\n",
            "Epoch 3/100\n",
            "857/857 [==============================] - 8s 10ms/step - loss: 0.9689 - accuracy: 0.7444 - val_loss: 6.2325 - val_accuracy: 0.3924\n",
            "Epoch 4/100\n",
            "857/857 [==============================] - 9s 10ms/step - loss: 0.7435 - accuracy: 0.8116 - val_loss: 7.0375 - val_accuracy: 0.4568\n",
            "Epoch 5/100\n",
            "857/857 [==============================] - 7s 9ms/step - loss: 0.6028 - accuracy: 0.8489 - val_loss: 8.0238 - val_accuracy: 0.5215\n",
            "Epoch 6/100\n",
            "857/857 [==============================] - 9s 11ms/step - loss: 0.5244 - accuracy: 0.8702 - val_loss: 8.4978 - val_accuracy: 0.4640\n",
            "Epoch 7/100\n",
            "857/857 [==============================] - 7s 9ms/step - loss: 0.4525 - accuracy: 0.8900 - val_loss: 11.0399 - val_accuracy: 0.5156\n",
            "Epoch 8/100\n",
            "857/857 [==============================] - 9s 10ms/step - loss: 0.4086 - accuracy: 0.9007 - val_loss: 10.1162 - val_accuracy: 0.5241\n",
            "Epoch 9/100\n",
            "857/857 [==============================] - 8s 9ms/step - loss: 0.3791 - accuracy: 0.9069 - val_loss: 10.0651 - val_accuracy: 0.4394\n",
            "Epoch 10/100\n",
            "857/857 [==============================] - 9s 10ms/step - loss: 0.3356 - accuracy: 0.9198 - val_loss: 10.8736 - val_accuracy: 0.4791\n",
            "Epoch 11/100\n",
            "857/857 [==============================] - 9s 11ms/step - loss: 0.3083 - accuracy: 0.9266 - val_loss: 12.0817 - val_accuracy: 0.5346\n",
            "Epoch 12/100\n",
            "857/857 [==============================] - 7s 9ms/step - loss: 0.3030 - accuracy: 0.9273 - val_loss: 10.2764 - val_accuracy: 0.5438\n"
          ]
        }
      ]
    },
    {
      "cell_type": "markdown",
      "source": [
        "train acc/loss and val acc/loss"
      ],
      "metadata": {
        "id": "jo14bkmH2Wqe"
      }
    },
    {
      "cell_type": "code",
      "source": [
        "# Plot training & validation accuracy values\n",
        "plt.plot(history.history['accuracy'])\n",
        "plt.plot(history.history['val_accuracy'])\n",
        "plt.title('Model accuracy')\n",
        "plt.ylabel('Accuracy')\n",
        "plt.xlabel('Epoch')\n",
        "plt.legend(['Train', 'Val'], loc='upper left')\n",
        "plt.show()\n",
        "\n",
        "# Plot training & validation loss values\n",
        "plt.plot(history.history['loss'])\n",
        "plt.plot(history.history['val_loss'])\n",
        "plt.title('Model loss')\n",
        "plt.ylabel('Loss')\n",
        "plt.xlabel('Epoch')\n",
        "plt.legend(['Train', 'Val'], loc='upper left')\n",
        "plt.show()"
      ],
      "metadata": {
        "colab": {
          "base_uri": "https://localhost:8080/",
          "height": 573
        },
        "id": "puUKdclu2dcR",
        "outputId": "9df7b5df-3015-479a-bf5c-7c8f6759e467"
      },
      "execution_count": 27,
      "outputs": [
        {
          "output_type": "display_data",
          "data": {
            "text/plain": [
              "<Figure size 432x288 with 1 Axes>"
            ],
            "image/png": "[encoded data removed]"
          },
          "metadata": {
            "needs_background": "light"
          }
        },
        {
          "output_type": "display_data",
          "data": {
            "text/plain": [
              "<Figure size 432x288 with 1 Axes>"
            ],
            "image/png": "[encoded data removed]"
          },
          "metadata": {
            "needs_background": "light"
          }
        }
      ]
    },
    {
      "cell_type": "markdown",
      "source": [
        "overfitting"
      ],
      "metadata": {
        "id": "Ikhxoehu_oho"
      }
    }
  ]
}