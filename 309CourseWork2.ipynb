{
  "nbformat": 4,
  "nbformat_minor": 0,
  "metadata": {
    "colab": {
      "provenance": [],
      "mount_file_id": "https://github.com/jiayuankeliang/309CourseWork2/blob/main/309CourseWork2.ipynb",
      "authorship_tag": "ABX9TyMLX/PX8zxYazNyZPOAAYL5",
      "include_colab_link": true
    },
    "kernelspec": {
      "name": "python3",
      "display_name": "Python 3"
    },
    "language_info": {
      "name": "python"
    }
  },
  "cells": [
    {
      "cell_type": "markdown",
      "metadata": {
        "id": "view-in-github",
        "colab_type": "text"
      },
      "source": [
        "<a href=\"https://colab.research.google.com/github/jiayuankeliang/309CourseWork2/blob/main/309CourseWork2.ipynb\" target=\"_parent\"><img src=\"https://colab.research.google.com/assets/colab-badge.svg\" alt=\"Open In Colab\"/></a>"
      ]
    },
    {
      "cell_type": "markdown",
      "source": [
        "import moudle"
      ],
      "metadata": {
        "id": "daURLkLtDXXd"
      }
    },
    {
      "cell_type": "code",
      "execution_count": 28,
      "metadata": {
        "id": "THzz1jKXG6ca"
      },
      "outputs": [],
      "source": [
        "import os\n",
        "import numpy as np\n",
        "from PIL import Image \n",
        "import matplotlib.pyplot as plt"
      ]
    },
    {
      "cell_type": "markdown",
      "source": [
        "load data"
      ],
      "metadata": {
        "id": "Ae_MkddfDfm6"
      }
    },
    {
      "cell_type": "code",
      "source": [
        "path = './data/train'\n",
        "img_list= []\n",
        "label_list = []\n",
        "for label in os.listdir(path):\n",
        "  for file_name in os.listdir(os.path.join(path, label)):\n",
        "    img = Image.open(os.path.join(path, label, file_name))\n",
        "    img = img.resize(size=(64,64))\n",
        "    img_list.append(np.array(img))\n",
        "    label_list.append(label)"
      ],
      "metadata": {
        "id": "YrfQfAvjDf5G"
      },
      "execution_count": 29,
      "outputs": []
    },
    {
      "cell_type": "code",
      "source": [
        "class_name = ['speed_limit_20', 'speed_limit_20']"
      ],
      "metadata": {
        "id": "Z_kkw7GMEuip"
      },
      "execution_count": 31,
      "outputs": []
    },
    {
      "cell_type": "markdown",
      "source": [
        "check shape"
      ],
      "metadata": {
        "id": "KCGl8HeGDnj-"
      }
    },
    {
      "cell_type": "code",
      "source": [
        "X_train = np.array(img_list, dtype=int)\n",
        "Y_train = np.array(label_list, ndmin=1, dtype=int)\n",
        "X_train.shape, Y_train.shape"
      ],
      "metadata": {
        "colab": {
          "base_uri": "https://localhost:8080/"
        },
        "id": "FDnEa-GyDVrf",
        "outputId": "8f782736-f582-4c57-c44b-681264f9b12e"
      },
      "execution_count": 32,
      "outputs": [
        {
          "output_type": "execute_result",
          "data": {
            "text/plain": [
              "((2438, 64, 64, 3), (2438,))"
            ]
          },
          "metadata": {},
          "execution_count": 32
        }
      ]
    },
    {
      "cell_type": "markdown",
      "source": [
        "show image"
      ],
      "metadata": {
        "id": "OeeZfkNqDrZZ"
      }
    },
    {
      "cell_type": "code",
      "source": [
        "index = 0\n",
        "print(class_name[Y_train[index]])\n",
        "plt.imshow(X_train[2])"
      ],
      "metadata": {
        "colab": {
          "base_uri": "https://localhost:8080/",
          "height": 304
        },
        "id": "_Wyux2yYDtAC",
        "outputId": "c0f7a9e9-234d-45ab-80df-7b0866d608c9"
      },
      "execution_count": 33,
      "outputs": [
        {
          "output_type": "stream",
          "name": "stdout",
          "text": [
            "speed_limit_20\n"
          ]
        },
        {
          "output_type": "execute_result",
          "data": {
            "text/plain": [
              "<matplotlib.image.AxesImage at 0x7f06f5e8c790>"
            ]
          },
          "metadata": {},
          "execution_count": 33
        },
        {
          "output_type": "display_data",
          "data": {
            "text/plain": [
              "<Figure size 432x288 with 1 Axes>"
            ],
            "image/png": "[encoded data removed]"
          },
          "metadata": {
            "needs_background": "light"
          }
        }
      ]
    }
  ]
}