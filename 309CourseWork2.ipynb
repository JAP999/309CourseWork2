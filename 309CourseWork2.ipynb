{
  "nbformat": 4,
  "nbformat_minor": 0,
  "metadata": {
    "colab": {
      "provenance": [],
      "mount_file_id": "https://github.com/jiayuankeliang/309CourseWork2/blob/main/309CourseWork2.ipynb",
      "authorship_tag": "ABX9TyNPu+Z6SQeTLqkLYEzi07Az",
      "include_colab_link": true
    },
    "kernelspec": {
      "name": "python3",
      "display_name": "Python 3"
    },
    "language_info": {
      "name": "python"
    }
  },
  "cells": [
    {
      "cell_type": "markdown",
      "metadata": {
        "id": "view-in-github",
        "colab_type": "text"
      },
      "source": [
        "<a href=\"https://colab.research.google.com/github/jiayuankeliang/309CourseWork2/blob/main/309CourseWork2.ipynb\" target=\"_parent\"><img src=\"https://colab.research.google.com/assets/colab-badge.svg\" alt=\"Open In Colab\"/></a>"
      ]
    },
    {
      "cell_type": "markdown",
      "source": [
        "import moudle"
      ],
      "metadata": {
        "id": "daURLkLtDXXd"
      }
    },
    {
      "cell_type": "code",
      "execution_count": 14,
      "metadata": {
        "id": "THzz1jKXG6ca"
      },
      "outputs": [],
      "source": [
        "import os\n",
        "import numpy as np\n",
        "from PIL import Image \n",
        "import matplotlib.pyplot as plt\n",
        "import tensorflow as tf\n",
        "from tensorflow import keras"
      ]
    },
    {
      "cell_type": "markdown",
      "source": [
        "load data"
      ],
      "metadata": {
        "id": "Ae_MkddfDfm6"
      }
    },
    {
      "cell_type": "code",
      "source": [
        "path = './data/train'\n",
        "img_list= []\n",
        "label_list = []\n",
        "for label in os.listdir(path):\n",
        "  for file_name in os.listdir(os.path.join(path, label)):\n",
        "    img = Image.open(os.path.join(path, label, file_name))\n",
        "    img = img.resize(size=(32,32))\n",
        "    img_list.append(np.array(img))\n",
        "    label_list.append(label)"
      ],
      "metadata": {
        "id": "YrfQfAvjDf5G"
      },
      "execution_count": 15,
      "outputs": []
    },
    {
      "cell_type": "markdown",
      "source": [
        "all classes"
      ],
      "metadata": {
        "id": "5q-Wx_7HyS4F"
      }
    },
    {
      "cell_type": "code",
      "source": [
        "class_name = ['speed_limit_20', 'speed_limit_30', 'speed_limit_50', \n",
        "              'speed_limit_60', 'speed_limit_70', 'speed_limit_80', \n",
        "              'lift__speed_limit_80', 'speed_limit_100', 'speed_limit_120']"
      ],
      "metadata": {
        "id": "Z_kkw7GMEuip"
      },
      "execution_count": 16,
      "outputs": []
    },
    {
      "cell_type": "markdown",
      "source": [
        "check shape"
      ],
      "metadata": {
        "id": "KCGl8HeGDnj-"
      }
    },
    {
      "cell_type": "code",
      "source": [
        "X_train = np.array(img_list, dtype=int)\n",
        "Y_train = np.array(label_list, ndmin=1, dtype=int)\n",
        "X_train.shape, Y_train.shape"
      ],
      "metadata": {
        "colab": {
          "base_uri": "https://localhost:8080/"
        },
        "id": "FDnEa-GyDVrf",
        "outputId": "8be461ae-acc9-49a4-8e2a-6a4b171a94ca"
      },
      "execution_count": 17,
      "outputs": [
        {
          "output_type": "execute_result",
          "data": {
            "text/plain": [
              "((12399, 32, 32, 3), (12399,))"
            ]
          },
          "metadata": {},
          "execution_count": 17
        }
      ]
    },
    {
      "cell_type": "markdown",
      "source": [
        "feature scale"
      ],
      "metadata": {
        "id": "fcMV4K-dwo5B"
      }
    },
    {
      "cell_type": "code",
      "source": [
        "X_train = X_train/255"
      ],
      "metadata": {
        "id": "nHKfqsicwoVX"
      },
      "execution_count": 18,
      "outputs": []
    },
    {
      "cell_type": "markdown",
      "source": [
        "show image"
      ],
      "metadata": {
        "id": "OeeZfkNqDrZZ"
      }
    },
    {
      "cell_type": "code",
      "source": [
        "index = 12000\n",
        "print(class_name[Y_train[index]])\n",
        "plt.imshow(X_train[index])"
      ],
      "metadata": {
        "colab": {
          "base_uri": "https://localhost:8080/",
          "height": 302
        },
        "id": "_Wyux2yYDtAC",
        "outputId": "4d7f5b55-16dd-4eb2-a845-1967bd324519"
      },
      "execution_count": 22,
      "outputs": [
        {
          "output_type": "stream",
          "name": "stdout",
          "text": [
            "speed_limit_100\n"
          ]
        },
        {
          "output_type": "execute_result",
          "data": {
            "text/plain": [
              "<matplotlib.image.AxesImage at 0x7f4e5fe06310>"
            ]
          },
          "metadata": {},
          "execution_count": 22
        },
        {
          "output_type": "display_data",
          "data": {
            "text/plain": [
              "<Figure size 432x288 with 1 Axes>"
            ],
            "image/png": "[encoded data removed]"
          },
          "metadata": {
            "needs_background": "light"
          }
        }
      ]
    },
    {
      "cell_type": "markdown",
      "source": [
        "create a simple model"
      ],
      "metadata": {
        "id": "Zd86yRryxi8m"
      }
    },
    {
      "cell_type": "code",
      "source": [
        "model = keras.models.Sequential()\n",
        "model.add(keras.layers.Flatten(input_shape=[32, 32, 3]))\n",
        "model.add(keras.layers.Dense(300, activation=\"relu\"))\n",
        "model.add(keras.layers.Dense(100, activation=\"relu\"))\n",
        "model.add(keras.layers.Dense(9, activation=\"softmax\"))\n",
        "model.compile(loss = \"sparse_categorical_crossentropy\", optimizer=keras.optimizers.SGD(), metrics = [\"accuracy\"])\n",
        "history = model.fit(X_train, Y_train, epochs = 100, validation_split=0.1)"
      ],
      "metadata": {
        "colab": {
          "base_uri": "https://localhost:8080/"
        },
        "id": "7igCZW6hxll2",
        "outputId": "42a0823f-5694-466f-c367-960e639c8616"
      },
      "execution_count": 29,
      "outputs": [
        {
          "output_type": "stream",
          "name": "stdout",
          "text": [
            "Epoch 1/100\n",
            "349/349 [==============================] - 3s 7ms/step - loss: 1.7125 - accuracy: 0.3713 - val_loss: 3.3695 - val_accuracy: 0.0000e+00\n",
            "Epoch 2/100\n",
            "349/349 [==============================] - 2s 6ms/step - loss: 1.4445 - accuracy: 0.5083 - val_loss: 3.4415 - val_accuracy: 0.0000e+00\n",
            "Epoch 3/100\n",
            "349/349 [==============================] - 2s 6ms/step - loss: 1.2272 - accuracy: 0.5907 - val_loss: 3.3498 - val_accuracy: 0.0000e+00\n",
            "Epoch 4/100\n",
            "349/349 [==============================] - 2s 6ms/step - loss: 1.0446 - accuracy: 0.6672 - val_loss: 3.0289 - val_accuracy: 0.0000e+00\n",
            "Epoch 5/100\n",
            "349/349 [==============================] - 3s 8ms/step - loss: 0.9363 - accuracy: 0.7053 - val_loss: 2.7477 - val_accuracy: 8.0645e-04\n",
            "Epoch 6/100\n",
            "349/349 [==============================] - 2s 6ms/step - loss: 0.8041 - accuracy: 0.7529 - val_loss: 2.8529 - val_accuracy: 0.0000e+00\n",
            "Epoch 7/100\n",
            "349/349 [==============================] - 2s 6ms/step - loss: 0.7316 - accuracy: 0.7799 - val_loss: 1.8324 - val_accuracy: 0.1556\n",
            "Epoch 8/100\n",
            "349/349 [==============================] - 2s 6ms/step - loss: 0.6767 - accuracy: 0.7991 - val_loss: 2.3074 - val_accuracy: 0.0250\n",
            "Epoch 9/100\n",
            "349/349 [==============================] - 2s 6ms/step - loss: 0.5875 - accuracy: 0.8296 - val_loss: 2.0550 - val_accuracy: 0.2250\n",
            "Epoch 10/100\n",
            "349/349 [==============================] - 3s 8ms/step - loss: 0.5296 - accuracy: 0.8484 - val_loss: 2.0816 - val_accuracy: 0.1323\n",
            "Epoch 11/100\n",
            "349/349 [==============================] - 2s 7ms/step - loss: 0.4932 - accuracy: 0.8607 - val_loss: 1.6372 - val_accuracy: 0.2726\n",
            "Epoch 12/100\n",
            "349/349 [==============================] - 2s 6ms/step - loss: 0.4420 - accuracy: 0.8737 - val_loss: 1.4448 - val_accuracy: 0.2694\n",
            "Epoch 13/100\n",
            "349/349 [==============================] - 2s 6ms/step - loss: 0.4377 - accuracy: 0.8830 - val_loss: 1.5102 - val_accuracy: 0.2444\n",
            "Epoch 14/100\n",
            "349/349 [==============================] - 2s 6ms/step - loss: 0.3680 - accuracy: 0.8980 - val_loss: 2.1429 - val_accuracy: 0.1403\n",
            "Epoch 15/100\n",
            "349/349 [==============================] - 3s 7ms/step - loss: 0.3862 - accuracy: 0.8960 - val_loss: 1.4123 - val_accuracy: 0.3161\n",
            "Epoch 16/100\n",
            "349/349 [==============================] - 3s 8ms/step - loss: 0.3362 - accuracy: 0.9104 - val_loss: 1.2845 - val_accuracy: 0.5306\n",
            "Epoch 17/100\n",
            "349/349 [==============================] - 2s 6ms/step - loss: 0.3188 - accuracy: 0.9120 - val_loss: 1.5917 - val_accuracy: 0.3548\n",
            "Epoch 18/100\n",
            "349/349 [==============================] - 2s 7ms/step - loss: 0.2733 - accuracy: 0.9269 - val_loss: 1.4025 - val_accuracy: 0.4306\n",
            "Epoch 19/100\n",
            "349/349 [==============================] - 2s 6ms/step - loss: 0.3019 - accuracy: 0.9187 - val_loss: 1.9324 - val_accuracy: 0.2944\n",
            "Epoch 20/100\n",
            "349/349 [==============================] - 2s 6ms/step - loss: 0.3230 - accuracy: 0.9129 - val_loss: 0.9410 - val_accuracy: 0.6411\n",
            "Epoch 21/100\n",
            "349/349 [==============================] - 3s 8ms/step - loss: 0.2272 - accuracy: 0.9432 - val_loss: 0.9118 - val_accuracy: 0.6032\n",
            "Epoch 22/100\n",
            "349/349 [==============================] - 2s 6ms/step - loss: 0.2488 - accuracy: 0.9333 - val_loss: 1.1601 - val_accuracy: 0.5331\n",
            "Epoch 23/100\n",
            "349/349 [==============================] - 2s 6ms/step - loss: 0.2302 - accuracy: 0.9377 - val_loss: 0.8615 - val_accuracy: 0.6774\n",
            "Epoch 24/100\n",
            "349/349 [==============================] - 2s 6ms/step - loss: 0.2283 - accuracy: 0.9425 - val_loss: 1.2050 - val_accuracy: 0.5250\n",
            "Epoch 25/100\n",
            "349/349 [==============================] - 2s 6ms/step - loss: 0.2450 - accuracy: 0.9431 - val_loss: 1.0481 - val_accuracy: 0.5927\n",
            "Epoch 26/100\n",
            "349/349 [==============================] - 3s 8ms/step - loss: 0.2015 - accuracy: 0.9505 - val_loss: 0.5372 - val_accuracy: 0.8032\n",
            "Epoch 27/100\n",
            "349/349 [==============================] - 2s 7ms/step - loss: 0.1927 - accuracy: 0.9510 - val_loss: 1.2324 - val_accuracy: 0.5000\n",
            "Epoch 28/100\n",
            "349/349 [==============================] - 2s 6ms/step - loss: 0.1795 - accuracy: 0.9533 - val_loss: 0.7443 - val_accuracy: 0.7266\n",
            "Epoch 29/100\n",
            "349/349 [==============================] - 3s 8ms/step - loss: 0.1916 - accuracy: 0.9559 - val_loss: 0.9747 - val_accuracy: 0.6839\n",
            "Epoch 30/100\n",
            "349/349 [==============================] - 2s 6ms/step - loss: 0.1675 - accuracy: 0.9573 - val_loss: 0.8775 - val_accuracy: 0.6331\n",
            "Epoch 31/100\n",
            "349/349 [==============================] - 3s 9ms/step - loss: 0.1606 - accuracy: 0.9603 - val_loss: 0.8547 - val_accuracy: 0.6960\n",
            "Epoch 32/100\n",
            "349/349 [==============================] - 2s 7ms/step - loss: 0.1696 - accuracy: 0.9582 - val_loss: 0.6971 - val_accuracy: 0.7452\n",
            "Epoch 33/100\n",
            "349/349 [==============================] - 2s 7ms/step - loss: 0.1356 - accuracy: 0.9686 - val_loss: 0.8130 - val_accuracy: 0.6992\n",
            "Epoch 34/100\n",
            "349/349 [==============================] - 2s 6ms/step - loss: 0.1597 - accuracy: 0.9641 - val_loss: 0.6546 - val_accuracy: 0.7661\n",
            "Epoch 35/100\n",
            "349/349 [==============================] - 2s 6ms/step - loss: 0.1186 - accuracy: 0.9726 - val_loss: 0.8888 - val_accuracy: 0.6718\n",
            "Epoch 36/100\n",
            "349/349 [==============================] - 3s 8ms/step - loss: 0.1221 - accuracy: 0.9707 - val_loss: 0.8506 - val_accuracy: 0.6976\n",
            "Epoch 37/100\n",
            "349/349 [==============================] - 2s 7ms/step - loss: 0.1496 - accuracy: 0.9637 - val_loss: 0.7522 - val_accuracy: 0.7371\n",
            "Epoch 38/100\n",
            "349/349 [==============================] - 2s 6ms/step - loss: 0.1395 - accuracy: 0.9694 - val_loss: 0.6670 - val_accuracy: 0.7613\n",
            "Epoch 39/100\n",
            "349/349 [==============================] - 2s 6ms/step - loss: 0.1047 - accuracy: 0.9745 - val_loss: 1.0950 - val_accuracy: 0.6234\n",
            "Epoch 40/100\n",
            "349/349 [==============================] - 2s 6ms/step - loss: 0.1189 - accuracy: 0.9720 - val_loss: 0.9082 - val_accuracy: 0.6806\n",
            "Epoch 41/100\n",
            "349/349 [==============================] - 3s 7ms/step - loss: 0.1181 - accuracy: 0.9716 - val_loss: 0.6893 - val_accuracy: 0.7613\n",
            "Epoch 42/100\n",
            "349/349 [==============================] - 3s 8ms/step - loss: 0.1054 - accuracy: 0.9740 - val_loss: 0.7167 - val_accuracy: 0.7323\n",
            "Epoch 43/100\n",
            "349/349 [==============================] - 2s 6ms/step - loss: 0.1133 - accuracy: 0.9772 - val_loss: 0.7136 - val_accuracy: 0.7347\n",
            "Epoch 44/100\n",
            "349/349 [==============================] - 2s 6ms/step - loss: 0.1305 - accuracy: 0.9669 - val_loss: 0.7227 - val_accuracy: 0.7419\n",
            "Epoch 45/100\n",
            "349/349 [==============================] - 2s 6ms/step - loss: 0.0803 - accuracy: 0.9821 - val_loss: 0.7677 - val_accuracy: 0.7194\n",
            "Epoch 46/100\n",
            "349/349 [==============================] - 2s 6ms/step - loss: 0.0838 - accuracy: 0.9810 - val_loss: 0.5746 - val_accuracy: 0.7839\n",
            "Epoch 47/100\n",
            "349/349 [==============================] - 3s 9ms/step - loss: 0.0853 - accuracy: 0.9808 - val_loss: 0.8668 - val_accuracy: 0.6887\n",
            "Epoch 48/100\n",
            "349/349 [==============================] - 2s 7ms/step - loss: 0.0736 - accuracy: 0.9836 - val_loss: 0.6340 - val_accuracy: 0.7710\n",
            "Epoch 49/100\n",
            "349/349 [==============================] - 2s 6ms/step - loss: 0.1299 - accuracy: 0.9774 - val_loss: 0.8628 - val_accuracy: 0.7129\n",
            "Epoch 50/100\n",
            "349/349 [==============================] - 2s 7ms/step - loss: 0.0771 - accuracy: 0.9813 - val_loss: 0.4937 - val_accuracy: 0.8185\n",
            "Epoch 51/100\n",
            "349/349 [==============================] - 2s 7ms/step - loss: 0.0757 - accuracy: 0.9849 - val_loss: 0.6263 - val_accuracy: 0.7831\n",
            "Epoch 52/100\n",
            "349/349 [==============================] - 3s 9ms/step - loss: 0.0621 - accuracy: 0.9860 - val_loss: 0.6258 - val_accuracy: 0.7992\n",
            "Epoch 53/100\n",
            "349/349 [==============================] - 2s 7ms/step - loss: 0.0543 - accuracy: 0.9895 - val_loss: 0.7233 - val_accuracy: 0.7460\n",
            "Epoch 54/100\n",
            "349/349 [==============================] - 2s 7ms/step - loss: 0.0551 - accuracy: 0.9901 - val_loss: 0.6162 - val_accuracy: 0.7685\n",
            "Epoch 55/100\n",
            "349/349 [==============================] - 2s 7ms/step - loss: 0.0567 - accuracy: 0.9891 - val_loss: 0.5608 - val_accuracy: 0.7960\n",
            "Epoch 56/100\n",
            "349/349 [==============================] - 2s 7ms/step - loss: 0.0698 - accuracy: 0.9847 - val_loss: 0.4579 - val_accuracy: 0.8306\n",
            "Epoch 57/100\n",
            "349/349 [==============================] - 3s 9ms/step - loss: 0.0483 - accuracy: 0.9909 - val_loss: 0.4576 - val_accuracy: 0.8347\n",
            "Epoch 58/100\n",
            "349/349 [==============================] - 2s 7ms/step - loss: 0.0885 - accuracy: 0.9809 - val_loss: 0.5935 - val_accuracy: 0.7927\n",
            "Epoch 59/100\n",
            "349/349 [==============================] - 2s 7ms/step - loss: 0.0458 - accuracy: 0.9921 - val_loss: 0.5879 - val_accuracy: 0.7911\n",
            "Epoch 60/100\n",
            "349/349 [==============================] - 2s 7ms/step - loss: 0.0547 - accuracy: 0.9887 - val_loss: 0.5177 - val_accuracy: 0.8234\n",
            "Epoch 61/100\n",
            "349/349 [==============================] - 2s 7ms/step - loss: 0.0475 - accuracy: 0.9908 - val_loss: 0.5903 - val_accuracy: 0.7992\n",
            "Epoch 62/100\n",
            "349/349 [==============================] - 3s 9ms/step - loss: 0.0399 - accuracy: 0.9932 - val_loss: 0.4467 - val_accuracy: 0.8540\n",
            "Epoch 63/100\n",
            "349/349 [==============================] - 2s 7ms/step - loss: 0.0427 - accuracy: 0.9920 - val_loss: 0.4746 - val_accuracy: 0.8266\n",
            "Epoch 64/100\n",
            "349/349 [==============================] - 2s 7ms/step - loss: 0.0431 - accuracy: 0.9924 - val_loss: 0.5340 - val_accuracy: 0.8185\n",
            "Epoch 65/100\n",
            "349/349 [==============================] - 2s 7ms/step - loss: 0.0378 - accuracy: 0.9929 - val_loss: 0.5165 - val_accuracy: 0.8161\n",
            "Epoch 66/100\n",
            "349/349 [==============================] - 2s 7ms/step - loss: 0.0482 - accuracy: 0.9923 - val_loss: 1.0099 - val_accuracy: 0.6290\n",
            "Epoch 67/100\n",
            "349/349 [==============================] - 3s 8ms/step - loss: 0.0395 - accuracy: 0.9935 - val_loss: 0.6521 - val_accuracy: 0.8008\n",
            "Epoch 68/100\n",
            "349/349 [==============================] - 2s 7ms/step - loss: 0.1135 - accuracy: 0.9811 - val_loss: 0.5307 - val_accuracy: 0.8024\n",
            "Epoch 69/100\n",
            "349/349 [==============================] - 2s 6ms/step - loss: 0.0369 - accuracy: 0.9934 - val_loss: 0.4695 - val_accuracy: 0.8419\n",
            "Epoch 70/100\n",
            "349/349 [==============================] - 2s 7ms/step - loss: 0.0327 - accuracy: 0.9948 - val_loss: 0.4908 - val_accuracy: 0.8258\n",
            "Epoch 71/100\n",
            "349/349 [==============================] - 2s 7ms/step - loss: 0.0334 - accuracy: 0.9945 - val_loss: 0.6812 - val_accuracy: 0.7790\n",
            "Epoch 72/100\n",
            "349/349 [==============================] - 3s 8ms/step - loss: 0.0292 - accuracy: 0.9954 - val_loss: 0.5792 - val_accuracy: 0.7960\n",
            "Epoch 73/100\n",
            "349/349 [==============================] - 3s 7ms/step - loss: 0.0375 - accuracy: 0.9937 - val_loss: 0.3899 - val_accuracy: 0.8621\n",
            "Epoch 74/100\n",
            "349/349 [==============================] - 2s 6ms/step - loss: 0.0790 - accuracy: 0.9868 - val_loss: 0.3170 - val_accuracy: 0.8710\n",
            "Epoch 75/100\n",
            "349/349 [==============================] - 2s 7ms/step - loss: 0.0310 - accuracy: 0.9955 - val_loss: 0.5017 - val_accuracy: 0.8444\n",
            "Epoch 76/100\n",
            "349/349 [==============================] - 2s 7ms/step - loss: 0.0664 - accuracy: 0.9866 - val_loss: 0.5052 - val_accuracy: 0.8347\n",
            "Epoch 77/100\n",
            "349/349 [==============================] - 3s 8ms/step - loss: 0.0304 - accuracy: 0.9950 - val_loss: 0.6697 - val_accuracy: 0.7984\n",
            "Epoch 78/100\n",
            "349/349 [==============================] - 2s 7ms/step - loss: 0.0262 - accuracy: 0.9963 - val_loss: 0.4301 - val_accuracy: 0.8645\n",
            "Epoch 79/100\n",
            "349/349 [==============================] - 2s 7ms/step - loss: 0.0475 - accuracy: 0.9912 - val_loss: 0.4102 - val_accuracy: 0.8556\n",
            "Epoch 80/100\n",
            "349/349 [==============================] - 2s 7ms/step - loss: 0.0257 - accuracy: 0.9962 - val_loss: 0.5668 - val_accuracy: 0.8081\n",
            "Epoch 81/100\n",
            "349/349 [==============================] - 2s 7ms/step - loss: 0.0252 - accuracy: 0.9961 - val_loss: 0.4780 - val_accuracy: 0.8508\n",
            "Epoch 82/100\n",
            "349/349 [==============================] - 3s 8ms/step - loss: 0.0224 - accuracy: 0.9973 - val_loss: 0.4733 - val_accuracy: 0.8161\n",
            "Epoch 83/100\n",
            "349/349 [==============================] - 3s 8ms/step - loss: 0.1069 - accuracy: 0.9774 - val_loss: 0.5968 - val_accuracy: 0.8097\n",
            "Epoch 84/100\n",
            "349/349 [==============================] - 2s 7ms/step - loss: 0.0274 - accuracy: 0.9961 - val_loss: 0.4458 - val_accuracy: 0.8419\n",
            "Epoch 85/100\n",
            "349/349 [==============================] - 2s 7ms/step - loss: 0.0221 - accuracy: 0.9973 - val_loss: 0.4006 - val_accuracy: 0.8734\n",
            "Epoch 86/100\n",
            "349/349 [==============================] - 2s 7ms/step - loss: 0.0210 - accuracy: 0.9975 - val_loss: 0.4932 - val_accuracy: 0.8492\n",
            "Epoch 87/100\n",
            "349/349 [==============================] - 3s 10ms/step - loss: 0.0203 - accuracy: 0.9974 - val_loss: 0.5846 - val_accuracy: 0.8210\n",
            "Epoch 88/100\n",
            "349/349 [==============================] - 3s 8ms/step - loss: 0.0301 - accuracy: 0.9952 - val_loss: 0.5207 - val_accuracy: 0.8282\n",
            "Epoch 89/100\n",
            "349/349 [==============================] - 2s 7ms/step - loss: 0.0259 - accuracy: 0.9953 - val_loss: 0.4604 - val_accuracy: 0.8460\n",
            "Epoch 90/100\n",
            "349/349 [==============================] - 2s 6ms/step - loss: 0.0194 - accuracy: 0.9979 - val_loss: 0.4197 - val_accuracy: 0.8742\n",
            "Epoch 91/100\n",
            "349/349 [==============================] - 2s 7ms/step - loss: 0.0188 - accuracy: 0.9977 - val_loss: 0.4314 - val_accuracy: 0.8613\n",
            "Epoch 92/100\n",
            "349/349 [==============================] - 3s 7ms/step - loss: 0.0184 - accuracy: 0.9972 - val_loss: 0.5007 - val_accuracy: 0.8524\n",
            "Epoch 93/100\n",
            "349/349 [==============================] - 3s 8ms/step - loss: 0.0257 - accuracy: 0.9961 - val_loss: 0.4557 - val_accuracy: 0.8395\n",
            "Epoch 94/100\n",
            "349/349 [==============================] - 2s 7ms/step - loss: 0.0179 - accuracy: 0.9978 - val_loss: 0.4404 - val_accuracy: 0.8548\n",
            "Epoch 95/100\n",
            "349/349 [==============================] - 2s 7ms/step - loss: 0.0173 - accuracy: 0.9977 - val_loss: 0.6287 - val_accuracy: 0.8323\n",
            "Epoch 96/100\n",
            "349/349 [==============================] - 2s 6ms/step - loss: 0.0169 - accuracy: 0.9980 - val_loss: 0.5362 - val_accuracy: 0.8274\n",
            "Epoch 97/100\n",
            "349/349 [==============================] - 3s 7ms/step - loss: 0.0665 - accuracy: 0.9903 - val_loss: 0.5090 - val_accuracy: 0.8452\n",
            "Epoch 98/100\n",
            "349/349 [==============================] - 3s 8ms/step - loss: 0.0468 - accuracy: 0.9915 - val_loss: 0.4399 - val_accuracy: 0.8685\n",
            "Epoch 99/100\n",
            "349/349 [==============================] - 3s 7ms/step - loss: 0.0593 - accuracy: 0.9909 - val_loss: 0.3880 - val_accuracy: 0.8887\n",
            "Epoch 100/100\n",
            "349/349 [==============================] - 2s 7ms/step - loss: 0.0173 - accuracy: 0.9978 - val_loss: 0.4616 - val_accuracy: 0.8548\n"
          ]
        }
      ]
    },
    {
      "cell_type": "markdown",
      "source": [
        "train error and val error"
      ],
      "metadata": {
        "id": "jo14bkmH2Wqe"
      }
    },
    {
      "cell_type": "code",
      "source": [
        "# Plot training & validation accuracy values\n",
        "plt.plot(history.history['accuracy'])\n",
        "plt.plot(history.history['val_accuracy'])\n",
        "plt.title('Model accuracy')\n",
        "plt.ylabel('Accuracy')\n",
        "plt.xlabel('Epoch')\n",
        "plt.legend(['Train', 'Val'], loc='upper left')\n",
        "plt.show()\n",
        "\n",
        "# Plot training & validation loss values\n",
        "plt.plot(history.history['loss'])\n",
        "plt.plot(history.history['val_loss'])\n",
        "plt.title('Model loss')\n",
        "plt.ylabel('Loss')\n",
        "plt.xlabel('Epoch')\n",
        "plt.legend(['Train', 'Val'], loc='upper left')\n",
        "plt.show()"
      ],
      "metadata": {
        "colab": {
          "base_uri": "https://localhost:8080/",
          "height": 573
        },
        "id": "puUKdclu2dcR",
        "outputId": "3562a51f-dbdb-471a-9a0a-dcaeef4084b9"
      },
      "execution_count": 30,
      "outputs": [
        {
          "output_type": "display_data",
          "data": {
            "text/plain": [
              "<Figure size 432x288 with 1 Axes>"
            ],
            "image/png": "[encoded data removed]"
          },
          "metadata": {
            "needs_background": "light"
          }
        },
        {
          "output_type": "display_data",
          "data": {
            "text/plain": [
              "<Figure size 432x288 with 1 Axes>"
            ],
            "image/png": "[encoded data removed]"
          },
          "metadata": {
            "needs_background": "light"
          }
        }
      ]
    }
  ]
}